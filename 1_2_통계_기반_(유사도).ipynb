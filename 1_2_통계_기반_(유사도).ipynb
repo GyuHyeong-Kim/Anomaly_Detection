{
  "nbformat": 4,
  "nbformat_minor": 0,
  "metadata": {
    "colab": {
      "provenance": [],
      "gpuType": "T4",
      "authorship_tag": "ABX9TyOdwnsXZAsQgzWxctrKOKzn",
      "include_colab_link": true
    },
    "kernelspec": {
      "name": "python3",
      "display_name": "Python 3"
    },
    "language_info": {
      "name": "python"
    },
    "accelerator": "GPU"
  },
  "cells": [
    {
      "cell_type": "markdown",
      "metadata": {
        "id": "view-in-github",
        "colab_type": "text"
      },
      "source": [
        "<a href=\"https://colab.research.google.com/github/GyuHyeong-Kim/Anomaly_Detection/blob/main/1_2_%ED%86%B5%EA%B3%84_%EA%B8%B0%EB%B0%98_(%EC%9C%A0%EC%82%AC%EB%8F%84).ipynb\" target=\"_parent\"><img src=\"https://colab.research.google.com/assets/colab-badge.svg\" alt=\"Open In Colab\"/></a>"
      ]
    },
    {
      "cell_type": "markdown",
      "source": [
        "# 6에 다른 숫자와의 z-value 차이와 유사도 구하기"
      ],
      "metadata": {
        "id": "BI38Jy9Lqvyu"
      }
    },
    {
      "cell_type": "code",
      "source": [
        "import torch\n",
        "from torchvision import datasets, transforms\n",
        "from torch.utils.data import DataLoader\n",
        "import numpy as np\n",
        "\n",
        "transform = transforms.Compose([transforms.ToTensor()])\n",
        "\n",
        "train_dataset = datasets.MNIST(root = './data', train = True, download = True, transform = transform)\n",
        "test_dataset = datasets.MNIST(root = './data', train = False, download = True, transform = transform)\n",
        "\n",
        "train_loader = DataLoader(train_dataset, batch_size = 64, shuffle = True)\n",
        "test_loader = DataLoader(test_dataset, batch_size = 64, shuffle = False)\n",
        "\n",
        "def calculate_average_pixel (digit, data_loader):\n",
        "    pixel_values = []\n",
        "    for images, labels in data_loader:\n",
        "        for i in range(len(labels)):\n",
        "            if labels[i] == digit:\n",
        "                pixel_values.append(images[i].numpy())\n",
        "    return np.mean(pixel_values, axis = 0)\n",
        "\n",
        "average_pixel_6_train = calculate_average_pixel(6, train_loader)\n",
        "average_pixel_6_test = calculate_average_pixel(6, test_loader)\n",
        "\n",
        "def calculate_averagne_pixel_differ (reference_pixel, digit, data_loader):\n",
        "    pixel_values = []\n",
        "    for images, labels in data_loader:\n",
        "        for i in range(len(labels)):\n",
        "            if labels[i] == digit:\n",
        "                pixel_values.append(images[i].numpy())\n",
        "\n",
        "    averange_pixel_digit = np.mean(pixel_values, axis = 0)\n",
        "    # 평균 픽셀 차이 계산\n",
        "    differ = np.mean(np.abs(reference_pixel - averange_pixel_digit))\n",
        "    return differ\n",
        "\n",
        "results_train = {}\n",
        "results_test = {}\n",
        "\n",
        "for digit in range(10):\n",
        "    if digit != 6:\n",
        "        avg_differ_train = calculate_averagne_pixel_differ(average_pixel_6_train, digit, train_loader)\n",
        "        avg_differ_test = calculate_averagne_pixel_differ(average_pixel_6_test, digit, test_loader)\n",
        "        results_train[digit] = avg_differ_train\n",
        "        results_test[digit] = avg_differ_test\n",
        "\n",
        "print(\"Training Data Differences : \")\n",
        "for digit, differ in results_train.items():\n",
        "    print(f'Digit {digit} : Average Pixel Difference from 6 = {differ:.4f}')\n",
        "\n",
        "print('')\n",
        "print(\"Testing Data Differences : \")\n",
        "for digit, differ in results_test.items():\n",
        "    print(f'Digit {digit} : Average Pixel Difference from 6 = {differ:.4f}')\n",
        "\n",
        "# 가장 유사한 숫자 찾기\n",
        "similar_train = min(results_train, key = results_train.get)\n",
        "similar_test = min(results_test, key = results_test.get)\n",
        "\n",
        "print('')\n",
        "print(f'In training data, the digit most similar to 6 is : {similar_train}')\n",
        "print(f'In testing data, the digit most similar to 6 is : {similar_test}')"
      ],
      "metadata": {
        "colab": {
          "base_uri": "https://localhost:8080/"
        },
        "id": "fBPw4gaSNslY",
        "outputId": "80a054ab-0cd8-4dff-aec8-ebfc79a124ac"
      },
      "execution_count": null,
      "outputs": [
        {
          "output_type": "stream",
          "name": "stdout",
          "text": [
            "Training Data Differences : \n",
            "Digit 0 : Average Pixel Difference from 6 = 0.1168\n",
            "Digit 1 : Average Pixel Difference from 6 = 0.1106\n",
            "Digit 2 : Average Pixel Difference from 6 = 0.0819\n",
            "Digit 3 : Average Pixel Difference from 6 = 0.1103\n",
            "Digit 4 : Average Pixel Difference from 6 = 0.0865\n",
            "Digit 5 : Average Pixel Difference from 6 = 0.0883\n",
            "Digit 7 : Average Pixel Difference from 6 = 0.1196\n",
            "Digit 8 : Average Pixel Difference from 6 = 0.0957\n",
            "Digit 9 : Average Pixel Difference from 6 = 0.0956\n",
            "\n",
            "Testing Data Differences : \n",
            "Digit 0 : Average Pixel Difference from 6 = 0.1106\n",
            "Digit 1 : Average Pixel Difference from 6 = 0.1184\n",
            "Digit 2 : Average Pixel Difference from 6 = 0.0870\n",
            "Digit 3 : Average Pixel Difference from 6 = 0.1157\n",
            "Digit 4 : Average Pixel Difference from 6 = 0.0900\n",
            "Digit 5 : Average Pixel Difference from 6 = 0.0961\n",
            "Digit 7 : Average Pixel Difference from 6 = 0.1226\n",
            "Digit 8 : Average Pixel Difference from 6 = 0.0996\n",
            "Digit 9 : Average Pixel Difference from 6 = 0.0989\n",
            "\n",
            "In training data, the digit most similar to 6 is : 2\n",
            "In testing data, the digit most similar to 6 is : 2\n"
          ]
        }
      ]
    },
    {
      "cell_type": "markdown",
      "source": [
        "# 1에 다른 숫자와의 z-value 차이와 유사도 구하기\n",
        "\n",
        "> MNIST 데이터 세트 사용\n",
        "\n",
        "> 1과 다른 숫자의 평균 픽셀 값 차이 구하기\n",
        "\n",
        "> 1과 가장 유사한 숫자 찾기"
      ],
      "metadata": {
        "id": "_ntVuB63p9rR"
      }
    },
    {
      "cell_type": "code",
      "execution_count": null,
      "metadata": {
        "id": "8FAVdDTzzFSr"
      },
      "outputs": [],
      "source": [
        "import torch\n",
        "from torchvision import datasets, transforms\n",
        "from torch.utils.data import DataLoader\n",
        "import numpy as np"
      ]
    },
    {
      "cell_type": "code",
      "source": [
        "transform = transforms.Compose([transforms.ToTensor()])\n",
        "\n",
        "train_dataset = datasets.MNIST(root = './data', train = True, download = True, transform = transform)\n",
        "test_dataset = datasets.MNIST(root = './data', train = False, download = True, transform = transform)\n",
        "\n",
        "train_loader = DataLoader(train_dataset, batch_size = 64, shuffle = True)\n",
        "test_loader = DataLoader(test_dataset, batch_size = 64, shuffle = False)"
      ],
      "metadata": {
        "id": "K2wzueZOzlnO"
      },
      "execution_count": null,
      "outputs": []
    },
    {
      "cell_type": "code",
      "source": [
        "# 특정 숫자 이미지의 평균 픽셀 값 계산\n",
        "# 학습 데이터와 검증 데이터 계산\n",
        "\n",
        "def calculate_average_pixel (digit, data_loader):\n",
        "    pixel_values = []\n",
        "    for images, labels in data_loader:\n",
        "        for i in range(len(labels)):\n",
        "            if labels[i] == digit:\n",
        "                pixel_values.append(images[i].numpy())\n",
        "\n",
        "    return np.mean(pixel_values, axis = 0)\n",
        "\n",
        "average_pixel_1_train = calculate_average_pixel(1, train_loader)\n",
        "average_pixel_1_test = calculate_average_pixel(1, test_loader)"
      ],
      "metadata": {
        "id": "plnnLlTY0cLG"
      },
      "execution_count": null,
      "outputs": []
    },
    {
      "cell_type": "code",
      "source": [
        "# 다른 숫자들과의 평균 픽셀 차이 계산\n",
        "\n",
        "def calculate_averagne_pixel_differ (reference_pixel, digit, data_loader):\n",
        "    pixel_values = []\n",
        "    for images, labels in data_loader:\n",
        "        for i in range(len(labels)):\n",
        "            if labels[i] == digit:\n",
        "                pixel_values.append(images[i].numpy())\n",
        "\n",
        "    averange_pixel_digit = np.mean(pixel_values, axis = 0)\n",
        "    # 평균 픽셀 차이 계산\n",
        "    differ = np.mean(np.abs(reference_pixel - averange_pixel_digit))\n",
        "\n",
        "    return differ"
      ],
      "metadata": {
        "id": "xJFZA-p-1k-2"
      },
      "execution_count": null,
      "outputs": []
    },
    {
      "cell_type": "code",
      "source": [
        "# 결과 저장과 차이 계산\n",
        "\n",
        "results_train = {}\n",
        "results_test = {}\n",
        "\n",
        "for digit in range(10):\n",
        "    if digit != 1:\n",
        "        avg_differ_train = calculate_averagne_pixel_differ(average_pixel_1_train, digit, train_loader)\n",
        "        avg_differ_test = calculate_averagne_pixel_differ(average_pixel_1_test, digit, test_loader)\n",
        "        results_train[digit] = avg_differ_train\n",
        "        results_test[digit] = avg_differ_test"
      ],
      "metadata": {
        "id": "k1cfu0tD-8h2"
      },
      "execution_count": null,
      "outputs": []
    },
    {
      "cell_type": "code",
      "source": [
        "# 차이 결과 출력\n",
        "\n",
        "print(\"Training Data Differences : \")\n",
        "for digit, differ in results_train.items():\n",
        "    print(f'Digit {digit} : Average Pixel Difference from 1 = {differ:.4f}')\n",
        "\n",
        "print('')\n",
        "print(\"Testing Data Differences : \")\n",
        "for digit, differ in results_test.items():\n",
        "    print(f'Digit {digit} : Average Pixel Difference from 1 = {differ:.4f}')\n",
        "\n",
        "# 가장 유사한 숫자 찾기\n",
        "similar_train = min(results_train, key = results_train.get)\n",
        "similar_test = min(results_test, key = results_test.get)\n",
        "\n",
        "print('')\n",
        "print(f'In training data, the digit most similar to 1 is : {similar_train}')\n",
        "print(f'In testing data, the digit most similar to 1 is : {similar_test}')"
      ],
      "metadata": {
        "colab": {
          "base_uri": "https://localhost:8080/"
        },
        "id": "4701H6j0Akau",
        "outputId": "e7e92a01-cd60-44cc-a27d-71fbb41036c1"
      },
      "execution_count": null,
      "outputs": [
        {
          "output_type": "stream",
          "name": "stdout",
          "text": [
            "Training Data Differences : \n",
            "Digit 0 : Average Pixel Difference from 1 = 0.1563\n",
            "Digit 2 : Average Pixel Difference from 1 = 0.1047\n",
            "Digit 3 : Average Pixel Difference from 1 = 0.1012\n",
            "Digit 4 : Average Pixel Difference from 1 = 0.1074\n",
            "Digit 5 : Average Pixel Difference from 1 = 0.0950\n",
            "Digit 6 : Average Pixel Difference from 1 = 0.1106\n",
            "Digit 7 : Average Pixel Difference from 1 = 0.0985\n",
            "Digit 8 : Average Pixel Difference from 1 = 0.0955\n",
            "Digit 9 : Average Pixel Difference from 1 = 0.0993\n",
            "\n",
            "Testing Data Differences : \n",
            "Digit 0 : Average Pixel Difference from 1 = 0.1575\n",
            "Digit 2 : Average Pixel Difference from 1 = 0.1052\n",
            "Digit 3 : Average Pixel Difference from 1 = 0.1024\n",
            "Digit 4 : Average Pixel Difference from 1 = 0.1081\n",
            "Digit 5 : Average Pixel Difference from 1 = 0.0979\n",
            "Digit 6 : Average Pixel Difference from 1 = 0.1184\n",
            "Digit 7 : Average Pixel Difference from 1 = 0.0967\n",
            "Digit 8 : Average Pixel Difference from 1 = 0.0990\n",
            "Digit 9 : Average Pixel Difference from 1 = 0.1020\n",
            "\n",
            "In training data, the digit most similar to 1 is : 5\n",
            "In testing data, the digit most similar to 1 is : 7\n"
          ]
        }
      ]
    }
  ]
}