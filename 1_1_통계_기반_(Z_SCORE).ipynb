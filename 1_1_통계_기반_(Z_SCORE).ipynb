{
  "nbformat": 4,
  "nbformat_minor": 0,
  "metadata": {
    "colab": {
      "provenance": [],
      "gpuType": "T4",
      "authorship_tag": "ABX9TyMxYhui/zGt3N7AcNjEih03",
      "include_colab_link": true
    },
    "kernelspec": {
      "name": "python3",
      "display_name": "Python 3"
    },
    "language_info": {
      "name": "python"
    },
    "accelerator": "GPU"
  },
  "cells": [
    {
      "cell_type": "markdown",
      "metadata": {
        "id": "view-in-github",
        "colab_type": "text"
      },
      "source": [
        "<a href=\"https://colab.research.google.com/github/GyuHyeong-Kim/Anomaly_Detection/blob/main/1_1_%ED%86%B5%EA%B3%84_%EA%B8%B0%EB%B0%98_(Z_SCORE).ipynb\" target=\"_parent\"><img src=\"https://colab.research.google.com/assets/colab-badge.svg\" alt=\"Open In Colab\"/></a>"
      ]
    },
    {
      "cell_type": "markdown",
      "source": [
        "# 28x28 크기의 이미지를 4개의 14x14 크기의 이미지로 분할해 진행\n",
        "> MNIST 데이터세트 사용\n",
        "\n",
        "> z-score 계산을 통해 유사도 판단"
      ],
      "metadata": {
        "id": "vGqdVagyQEUq"
      }
    },
    {
      "cell_type": "code",
      "execution_count": null,
      "metadata": {
        "id": "DWNeNhF5TJ7Y"
      },
      "outputs": [],
      "source": [
        "import torch\n",
        "from torchvision import datasets, transforms\n",
        "import numpy as np\n",
        "import random\n",
        "import matplotlib.pyplot as plt"
      ]
    },
    {
      "cell_type": "code",
      "source": [
        "# MNIST 데이터\n",
        "\n",
        "transform = transforms.Compose([transforms.ToTensor()])\n",
        "\n",
        "train_dataset = datasets.MNIST(root = './data', train = True, download = True, transform = transform)\n",
        "test_dataset = datasets.MNIST(root = './data', train = False, download = True, transform = transform)"
      ],
      "metadata": {
        "colab": {
          "base_uri": "https://localhost:8080/"
        },
        "collapsed": true,
        "id": "KoGLXLpuVR1V",
        "outputId": "3f2ee459-5267-4213-d8e6-5ebfd63949ab"
      },
      "execution_count": null,
      "outputs": [
        {
          "output_type": "stream",
          "name": "stdout",
          "text": [
            "Downloading http://yann.lecun.com/exdb/mnist/train-images-idx3-ubyte.gz\n",
            "Failed to download (trying next):\n",
            "HTTP Error 403: Forbidden\n",
            "\n",
            "Downloading https://ossci-datasets.s3.amazonaws.com/mnist/train-images-idx3-ubyte.gz\n",
            "Downloading https://ossci-datasets.s3.amazonaws.com/mnist/train-images-idx3-ubyte.gz to ./data/MNIST/raw/train-images-idx3-ubyte.gz\n"
          ]
        },
        {
          "output_type": "stream",
          "name": "stderr",
          "text": [
            "100%|██████████| 9.91M/9.91M [00:00<00:00, 17.7MB/s]\n"
          ]
        },
        {
          "output_type": "stream",
          "name": "stdout",
          "text": [
            "Extracting ./data/MNIST/raw/train-images-idx3-ubyte.gz to ./data/MNIST/raw\n",
            "\n",
            "Downloading http://yann.lecun.com/exdb/mnist/train-labels-idx1-ubyte.gz\n",
            "Failed to download (trying next):\n",
            "HTTP Error 403: Forbidden\n",
            "\n",
            "Downloading https://ossci-datasets.s3.amazonaws.com/mnist/train-labels-idx1-ubyte.gz\n",
            "Downloading https://ossci-datasets.s3.amazonaws.com/mnist/train-labels-idx1-ubyte.gz to ./data/MNIST/raw/train-labels-idx1-ubyte.gz\n"
          ]
        },
        {
          "output_type": "stream",
          "name": "stderr",
          "text": [
            "100%|██████████| 28.9k/28.9k [00:00<00:00, 483kB/s]\n"
          ]
        },
        {
          "output_type": "stream",
          "name": "stdout",
          "text": [
            "Extracting ./data/MNIST/raw/train-labels-idx1-ubyte.gz to ./data/MNIST/raw\n",
            "\n",
            "Downloading http://yann.lecun.com/exdb/mnist/t10k-images-idx3-ubyte.gz\n",
            "Failed to download (trying next):\n",
            "HTTP Error 403: Forbidden\n",
            "\n",
            "Downloading https://ossci-datasets.s3.amazonaws.com/mnist/t10k-images-idx3-ubyte.gz\n",
            "Downloading https://ossci-datasets.s3.amazonaws.com/mnist/t10k-images-idx3-ubyte.gz to ./data/MNIST/raw/t10k-images-idx3-ubyte.gz\n"
          ]
        },
        {
          "output_type": "stream",
          "name": "stderr",
          "text": [
            "100%|██████████| 1.65M/1.65M [00:00<00:00, 4.45MB/s]\n"
          ]
        },
        {
          "output_type": "stream",
          "name": "stdout",
          "text": [
            "Extracting ./data/MNIST/raw/t10k-images-idx3-ubyte.gz to ./data/MNIST/raw\n",
            "\n",
            "Downloading http://yann.lecun.com/exdb/mnist/t10k-labels-idx1-ubyte.gz\n",
            "Failed to download (trying next):\n",
            "HTTP Error 403: Forbidden\n",
            "\n",
            "Downloading https://ossci-datasets.s3.amazonaws.com/mnist/t10k-labels-idx1-ubyte.gz\n",
            "Downloading https://ossci-datasets.s3.amazonaws.com/mnist/t10k-labels-idx1-ubyte.gz to ./data/MNIST/raw/t10k-labels-idx1-ubyte.gz\n"
          ]
        },
        {
          "output_type": "stream",
          "name": "stderr",
          "text": [
            "100%|██████████| 4.54k/4.54k [00:00<00:00, 3.85MB/s]"
          ]
        },
        {
          "output_type": "stream",
          "name": "stdout",
          "text": [
            "Extracting ./data/MNIST/raw/t10k-labels-idx1-ubyte.gz to ./data/MNIST/raw\n",
            "\n"
          ]
        },
        {
          "output_type": "stream",
          "name": "stderr",
          "text": [
            "\n"
          ]
        }
      ]
    },
    {
      "cell_type": "code",
      "source": [
        "# 28x28 크기의 이미지를 4개의 14x14 크기의 이미지로 분할하는 과정\n",
        "\n",
        "def split_image(image):\n",
        "    image = image.squeeze(0)\n",
        "    return image.unfold(0, 14, 14).unfold(1, 14, 14).contiguous().view(4, 14, 14)\n",
        "\n",
        "zero_images = [split_image(train_dataset[i][0]) for i in range(len(train_dataset)) if train_dataset[i][1] == 0]"
      ],
      "metadata": {
        "id": "jEnkvD-xV0Qz"
      },
      "execution_count": null,
      "outputs": []
    },
    {
      "cell_type": "code",
      "source": [
        "# 각 사분면의 이미지의 평균과 표준편차를 계산하는 과정\n",
        "\n",
        "quadrant_stats = []\n",
        "for quadrants in zip(*zero_images):\n",
        "    means = [q.mean().item() for q in quadrants]\n",
        "    stds = [q.std().item() for q in quadrants]\n",
        "    quadrant_stats.append((means, stds))"
      ],
      "metadata": {
        "id": "bvehy9dwXl7_"
      },
      "execution_count": null,
      "outputs": []
    },
    {
      "cell_type": "code",
      "source": [
        "# 동일한 사분면에 있는 이미지의 평균과 표준편차를 수집\n",
        "# 평균의 중앙값과 표준편차의 중앙값을 구하는 과정\n",
        "\n",
        "quadrant_means = [np.median([stat[0][i] for stat in quadrant_stats]) for i in range(4)]\n",
        "quadrant_stds = [np.median([stat[1][i] for stat in quadrant_stats]) for i in range(4)]\n",
        "\n",
        "print(quadrant_means)\n",
        "print(quadrant_stds)"
      ],
      "metadata": {
        "colab": {
          "base_uri": "https://localhost:8080/"
        },
        "id": "U-KAQRL_tDXX",
        "outputId": "31ba0c40-7b6c-4bd0-9125-87bd8d3c32e3"
      },
      "execution_count": null,
      "outputs": [
        {
          "output_type": "stream",
          "name": "stdout",
          "text": [
            "[0.14888955280184746, 0.16833733767271042, 0.19774910062551498, 0.19281712919473648]\n",
            "[0.31799449026584625, 0.3384728878736496, 0.36848337948322296, 0.3584730327129364]\n"
          ]
        }
      ]
    },
    {
      "cell_type": "code",
      "source": [
        "# 검증 데이터에서 무작위로 하나의 숫자 이미지를 선택하는 과정\n",
        "\n",
        "random_index = random.randint(0, len(test_dataset) - 1)\n",
        "selected_image, label = test_dataset[random_index]\n",
        "\n",
        "# 선택한 숫자 이미지를 동일하게 4개의 14x14 크기의 이미지로 분할\n",
        "selected_quadrants = split_image(selected_image)"
      ],
      "metadata": {
        "id": "m5SrVtb9t_4b"
      },
      "execution_count": null,
      "outputs": []
    },
    {
      "cell_type": "code",
      "source": [
        "# 이상치 검출을 위한 z-score 계산 과정\n",
        "\n",
        "def calculate_z_scores(selected_quadrants, quadrant_means, quadrant_stds):\n",
        "    z_scores = []\n",
        "    for i in range(4):\n",
        "        mean = quadrant_means[i]\n",
        "        std = quadrant_stds[i]\n",
        "        z_score = (selected_quadrants[i].mean().item() - mean) / std\n",
        "        z_scores.append(np.abs(z_score)) # 절대값으로 변환\n",
        "\n",
        "    return z_scores\n",
        "\n",
        "z_scores = calculate_z_scores(selected_quadrants, quadrant_means, quadrant_stds)\n",
        "\n",
        "print(z_scores)"
      ],
      "metadata": {
        "colab": {
          "base_uri": "https://localhost:8080/"
        },
        "id": "55gB5-AgucwZ",
        "outputId": "0b3f9b76-427a-408c-f411-6faad5f32c5c"
      },
      "execution_count": null,
      "outputs": [
        {
          "output_type": "stream",
          "name": "stdout",
          "text": [
            "[0.17085743704302606, 0.0035171978677437806, 0.12322989169460777, 0.2262162694013373]\n"
          ]
        }
      ]
    },
    {
      "cell_type": "code",
      "source": [
        "# 임계값을 설정하고 결과를 출력\n",
        "\n",
        "threshold = 0.05\n",
        "\n",
        "if all(z <= threshold for z in z_scores):\n",
        "    print(\"선택한 이미지는 0입니다.\")\n",
        "    print(f\"실제 이미지의 Label : {label}\")\n",
        "    plt.imshow(selected_image.squeeze(), cmap = 'gray')\n",
        "    plt.title(f'Label : {label}')\n",
        "    plt.axis('on')\n",
        "    plt.show()\n",
        "else:\n",
        "    print(\"선택한 이미지는 0이 아닙니다.\")\n",
        "    print(f\"선택한 이미지의 Label : {label}\")\n",
        "    plt.imshow(selected_image.squeeze(), cmap = 'gray')\n",
        "    plt.title(f'Label : {label}')\n",
        "    plt.axis('on')\n",
        "    plt.show()"
      ],
      "metadata": {
        "colab": {
          "base_uri": "https://localhost:8080/",
          "height": 489
        },
        "id": "1jHEtqIbwG1O",
        "outputId": "3064a700-6461-4292-9a94-e7995fd78e8e"
      },
      "execution_count": null,
      "outputs": [
        {
          "output_type": "stream",
          "name": "stdout",
          "text": [
            "선택한 이미지는 0이 아닙니다.\n",
            "선택한 이미지의 Label : 6\n"
          ]
        },
        {
          "output_type": "display_data",
          "data": {
            "text/plain": [
              "<Figure size 640x480 with 1 Axes>"
            ],
            "image/png": "[encoded data removed]"
          },
          "metadata": {}
        }
      ]
    },
    {
      "cell_type": "code",
      "source": [
        "### 전체 코드\n",
        "\n",
        "import torch\n",
        "from torchvision import datasets, transforms\n",
        "import numpy as np\n",
        "import random\n",
        "import matplotlib.pyplot as plt\n",
        "\n",
        "# MNIST 데이터\n",
        "transform = transforms.Compose([transforms.ToTensor()])\n",
        "\n",
        "train_dataset = datasets.MNIST(root = './data', train = True, download = True, transform = transform)\n",
        "test_dataset = datasets.MNIST(root = './data', train = False, download = True, transform = transform)\n",
        "\n",
        "# 28x28 크기의 이미지를 4개의 14x14 크기의 이미지로 분할하는 과정\n",
        "def split_image(image):\n",
        "    image = image.squeeze(0)\n",
        "    return image.unfold(0, 14, 14).unfold(1, 14, 14).contiguous().view(4, 14, 14)\n",
        "\n",
        "zero_images = [split_image(train_dataset[i][0]) for i in range(len(train_dataset)) if train_dataset[i][1] == 0]\n",
        "\n",
        "# 각 사분면의 이미지의 평균과 표준편차를 계산하는 과정\n",
        "quadrant_stats = []\n",
        "for quadrants in zip(*zero_images):\n",
        "    means = [q.mean().item() for q in quadrants]\n",
        "    stds = [q.std().item() for q in quadrants]\n",
        "    quadrant_stats.append((means, stds))\n",
        "\n",
        "# 동일한 사분면에 있는 이미지의 평균과 표준편차를 수집\n",
        "# 평균의 중앙값과 표준편차의 중앙값을 구하는 과정\n",
        "quadrant_means = [np.median([stat[0][i] for stat in quadrant_stats]) for i in range(4)]\n",
        "quadrant_stds = [np.median([stat[1][i] for stat in quadrant_stats]) for i in range(4)]\n",
        "\n",
        "print(quadrant_means)\n",
        "print(quadrant_stds)\n",
        "\n",
        "# 검증 데이터에서 무작위로 하나의 숫자 이미지를 선택하는 과정\n",
        "random_index = random.randint(0, len(test_dataset) - 1)\n",
        "selected_image, label = test_dataset[random_index]\n",
        "\n",
        "# 선택한 숫자 이미지를 동일하게 4개의 14x14 크기의 이미지로 분할\n",
        "selected_quadrants = split_image(selected_image)\n",
        "\n",
        "# 이상치 검출을 위한 z-score 계산 과정\n",
        "def calculate_z_scores(selected_quadrants, quadrant_means, quadrant_stds):\n",
        "    z_scores = []\n",
        "    for i in range(4):\n",
        "        mean = quadrant_means[i]\n",
        "        std = quadrant_stds[i]\n",
        "        z_score = (selected_quadrants[i].mean().item() - mean) / std\n",
        "        z_scores.append(np.abs(z_score)) # 절대값으로 변환\n",
        "    return z_scores\n",
        "\n",
        "z_scores = calculate_z_scores(selected_quadrants, quadrant_means, quadrant_stds)\n",
        "\n",
        "print(z_scores)\n",
        "\n",
        "# 임계값을 설정하고 결과를 출력\n",
        "threshold = 0.05\n",
        "\n",
        "if all(z <= threshold for z in z_scores):\n",
        "    print(\"선택한 이미지는 0입니다.\")\n",
        "    print(f\"실제 이미지의 Label : {label}\")\n",
        "    plt.imshow(selected_image.squeeze(), cmap = 'gray')\n",
        "    plt.title(f'Label : {label}')\n",
        "    plt.axis('on')\n",
        "    plt.show()\n",
        "else:\n",
        "    print(\"선택한 이미지는 0이 아닙니다.\")\n",
        "    print(f\"선택한 이미지의 Label : {label}\")\n",
        "    plt.imshow(selected_image.squeeze(), cmap = 'gray')\n",
        "    plt.title(f'Label : {label}')\n",
        "    plt.axis('on')\n",
        "    plt.show()"
      ],
      "metadata": {
        "id": "K7s5mwVDRcig",
        "colab": {
          "base_uri": "https://localhost:8080/",
          "height": 544
        },
        "outputId": "1664fa53-cb64-4760-c163-f5f4dc390b59"
      },
      "execution_count": null,
      "outputs": [
        {
          "output_type": "stream",
          "name": "stdout",
          "text": [
            "[0.14888955280184746, 0.16833733767271042, 0.19774910062551498, 0.19281712919473648]\n",
            "[0.31799449026584625, 0.3384728878736496, 0.36848337948322296, 0.3584730327129364]\n",
            "[0.08623096431536482, 0.232578431841714, 0.4461415898197792, 0.13981539377067145]\n",
            "선택한 이미지는 0이 아닙니다.\n",
            "선택한 이미지의 Label : 7\n"
          ]
        },
        {
          "output_type": "display_data",
          "data": {
            "text/plain": [
              "<Figure size 640x480 with 1 Axes>"
            ],
            "image/png": "[encoded data removed]"
          },
          "metadata": {}
        }
      ]
    },
    {
      "cell_type": "markdown",
      "source": [
        "# 28x28 크기의 이미지를 16개의 7x7 크기의 이미지로 분할해 진행"
      ],
      "metadata": {
        "id": "NVLUgKOrRoMO"
      }
    },
    {
      "cell_type": "code",
      "source": [
        "# 28x28 크기의 이미지를 16개의 7x7 크기의 이미지로 분할하는 과정\n",
        "def split_image(image):\n",
        "    image = image.squeeze(0)\n",
        "    return image.unfold(0, 7, 7).unfold(1, 7, 7).contiguous().view(-1, 7, 7)  # 자동으로 크기를 계산\n",
        "\n",
        "zero_images = [split_image(train_dataset[i][0]) for i in range(len(train_dataset)) if train_dataset[i][1] == 0]\n",
        "\n",
        "# 각 이미지의 평균과 표준편차를 계산하는 과정\n",
        "quadrant_stats = []\n",
        "for quadrants in zip(*zero_images):\n",
        "    means = [q.mean().item() for q in quadrants]\n",
        "    stds = [q.std().item() for q in quadrants]\n",
        "    quadrant_stats.append((means, stds))\n",
        "\n",
        "# 동일한 위치에 있는 이미지의 평균과 표준편차를 수집\n",
        "# 평균의 중앙값과 표준편차의 중앙값을 구하는 과정\n",
        "quadrant_means = [np.median([stat[0][i] for stat in quadrant_stats]) for i in range(16)]\n",
        "quadrant_stds = [np.median([stat[1][i] for stat in quadrant_stats]) for i in range(16)]\n",
        "\n",
        "print(f'means : {quadrant_means}')\n",
        "print(f'stds : {quadrant_stds}')\n",
        "\n",
        "# 검증 데이터에서 무작위로 하나의 숫자 이미지를 선택하는 과정\n",
        "random_index = random.randint(0, len(test_dataset) - 1)\n",
        "selected_image, label = test_dataset[random_index]\n",
        "\n",
        "# 선택한 숫자 이미지를 동일하게 16개의 7x7 크기의 이미지로 분할\n",
        "selected_quadrants = split_image(selected_image)\n",
        "\n",
        "# 이상치 검출을 위한 z-score 계산 과정\n",
        "def calculate_z_scores(selected_quadrants, quadrant_means, quadrant_stds):\n",
        "    z_scores = []\n",
        "    for i in range(16):\n",
        "        mean = quadrant_means[i]\n",
        "        std = quadrant_stds[i]\n",
        "        z_score = (selected_quadrants[i].mean().item() - mean) / std\n",
        "        z_scores.append(np.abs(z_score))  # 절대값으로 변환\n",
        "    return z_scores\n",
        "\n",
        "z_scores = calculate_z_scores(selected_quadrants, quadrant_means, quadrant_stds)\n",
        "\n",
        "print(f'z-score : {z_scores}')\n",
        "\n",
        "# 임계값을 설정하고 결과를 출력\n",
        "threshold = 0.05\n",
        "\n",
        "if all(z <= threshold for z in z_scores):\n",
        "    print(\"선택한 이미지는 0입니다.\")\n",
        "    print(f\"실제 이미지의 Label : {label}\")\n",
        "    plt.imshow(selected_image.squeeze(), cmap='gray')\n",
        "    plt.title(f'Label : {label}')\n",
        "    plt.axis('on')\n",
        "    plt.show()\n",
        "else:\n",
        "    print(\"선택한 이미지는 0이 아닙니다.\")\n",
        "    print(f\"선택한 이미지의 Label : {label}\")\n",
        "    plt.imshow(selected_image.squeeze(), cmap='gray')\n",
        "    plt.title(f'Label : {label}')\n",
        "    plt.axis('on')\n",
        "    plt.show()"
      ],
      "metadata": {
        "id": "UNAT1bOXR6It",
        "colab": {
          "base_uri": "https://localhost:8080/",
          "height": 564
        },
        "outputId": "545e9228-1a94-448b-997a-c7a8f33a4c39"
      },
      "execution_count": null,
      "outputs": [
        {
          "output_type": "stream",
          "name": "stdout",
          "text": [
            "means : [0.07366947084665298, 0.1293717622756958, 0.03429371863603592, 0.05366146471351385, 0.20556221157312393, 0.113325335085392, 0.1697879284620285, 0.15198079496622086, 0.057583037763834, 0.027090836316347122, 0.02573029324412346, 0.16802720725536346, 0.02661064639687538, 0.15162065252661705, 0.2152060866355896, 0.10452181100845337]\n",
            "stds : [0.22895148396492004, 0.3056737780570984, 0.10424837656319141, 0.18345580995082855, 0.36016692221164703, 0.28726062178611755, 0.33571043610572815, 0.328516349196434, 0.19857658445835114, 0.10143330693244934, 0.0952974408864975, 0.34183791279792786, 0.10033025592565536, 0.3014081120491028, 0.3828299194574356, 0.27173635363578796]\n",
            "z-score : [0.32176891615142633, 0.24493419429817165, 0.08329600093596473, 0.2925034902295908, 0.5707415059407598, 0.7196346572683283, 1.459340757967479, 0.40903215583126445, 0.28997899183783826, 1.9713444792872825, 3.2513354332077777, 0.4915405838985745, 0.26523052444512696, 0.6275732609171552, 0.5621454220208015, 0.38464419504408826]\n",
            "선택한 이미지는 0이 아닙니다.\n",
            "선택한 이미지의 Label : 7\n"
          ]
        },
        {
          "output_type": "display_data",
          "data": {
            "text/plain": [
              "<Figure size 640x480 with 1 Axes>"
            ],
            "image/png": "[encoded data removed]"
          },
          "metadata": {}
        }
      ]
    }
  ]
}